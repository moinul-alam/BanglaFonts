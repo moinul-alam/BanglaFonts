{
  "nbformat": 4,
  "nbformat_minor": 0,
  "metadata": {
    "colab": {
      "provenance": [],
      "authorship_tag": "ABX9TyNGllLxl+FGxElmOE0SEaNM",
      "include_colab_link": true
    },
    "kernelspec": {
      "name": "python3",
      "display_name": "Python 3"
    },
    "language_info": {
      "name": "python"
    }
  },
  "cells": [
    {
      "cell_type": "markdown",
      "metadata": {
        "id": "view-in-github",
        "colab_type": "text"
      },
      "source": [
        "<a href=\"https://colab.research.google.com/github/moinul-alam/BanglaFonts/blob/main/NLP_Assignment_Keyword_Extraction.ipynb\" target=\"_parent\"><img src=\"https://colab.research.google.com/assets/colab-badge.svg\" alt=\"Open In Colab\"/></a>"
      ]
    },
    {
      "cell_type": "code",
      "source": [
        "# Import Libraries\n",
        "import nltk\n",
        "from nltk.tokenize import sent_tokenize, word_tokenize\n",
        "from nltk.corpus import stopwords\n",
        "from nltk.corpus import wordnet\n",
        "from nltk.stem import PorterStemmer, WordNetLemmatizer\n",
        "from collections import Counter\n",
        "import spacy\n",
        "import os"
      ],
      "metadata": {
        "id": "TbfwY4IUiE4N"
      },
      "execution_count": 40,
      "outputs": []
    },
    {
      "cell_type": "code",
      "source": [
        "# Download necessary NLTK data\n",
        "nltk.download('punkt')\n",
        "nltk.download('punkt_tab')\n",
        "nltk.download('stopwords')\n",
        "nltk.download('wordnet')\n",
        "nltk.download('averaged_perceptron_tagger_eng')"
      ],
      "metadata": {
        "id": "ATFDZ24YiP6j"
      },
      "execution_count": null,
      "outputs": []
    },
    {
      "cell_type": "code",
      "source": [
        "import requests\n",
        "from bs4 import BeautifulSoup\n",
        "\n",
        "def fetch_content_from_url(url):\n",
        "    # Fetch the HTML content from the URL\n",
        "    response = requests.get(url)\n",
        "\n",
        "    # Parse the HTML content using BeautifulSoup\n",
        "    soup = BeautifulSoup(response.text, 'html.parser')\n",
        "\n",
        "    # Extract the text content from the HTML\n",
        "    text = soup.get_text()\n",
        "\n",
        "    # Limit the text to the first 1000 words\n",
        "    words = text.split()\n",
        "    limited_words = words[:2000]\n",
        "\n",
        "    # Join the words back into a single string\n",
        "    document_text = ' '.join(limited_words)\n",
        "\n",
        "    return document_text\n",
        "\n",
        "# Example usage: Replace with the URL you want to scrape\n",
        "url = 'https://www.bbc.com/news/articles/c390mrmxndyo'\n",
        "document_text = fetch_content_from_url(url)"
      ],
      "metadata": {
        "id": "UWcTOYHo7zOV"
      },
      "execution_count": 58,
      "outputs": []
    },
    {
      "cell_type": "code",
      "source": [
        "print(document_text)"
      ],
      "metadata": {
        "colab": {
          "base_uri": "https://localhost:8080/"
        },
        "id": "nXLOR1UC76xd",
        "outputId": "6cbf26a1-c35c-4f5d-994f-12a8d5ac8fbb"
      },
      "execution_count": 59,
      "outputs": [
        {
          "output_type": "stream",
          "name": "stdout",
          "text": [
            "Trump to be sentenced in hush money case on 10 JanuarySkip to contentBritish Broadcasting CorporationWatch LiveHomeNewsSportBusinessInnovationCultureArtsTravelEarthVideoLiveHomeNewsIsrael-Gaza WarWar in UkraineUS & CanadaUKUK PoliticsEnglandN. IrelandN. Ireland PoliticsScotlandScotland PoliticsWalesWales PoliticsAfricaAsiaChinaIndiaAustraliaEuropeLatin AmericaMiddle EastIn PicturesBBC InDepthBBC VerifySportBusinessExecutive LoungeTechnology of BusinessFuture of BusinessInnovationTechnologyScience & HealthArtificial IntelligenceAI v the MindCultureFilm & TVMusicArt & DesignStyleBooksEntertainment NewsArtsArts in MotionTravelDestinationsAfricaAntarcticaAsiaAustralia and PacificCaribbean & BermudaCentral AmericaEuropeMiddle EastNorth AmericaSouth AmericaWorld’s TableCulture & ExperiencesAdventuresThe SpeciaListEarthNatural WondersWeather & ScienceClimate SolutionsSustainable BusinessGreen LivingVideoLiveLive NewsLive SportHomeNewsSportBusinessInnovationCultureArtsTravelEarthVideoLiveAudioWeatherNewslettersTrump to be sentenced over hush money case but judge signals no jail timeReutersA judge has ordered that Donald Trump will be sentenced on 10 January in his hush-money case in New York - less than two weeks before he is set to be sworn in as president.New York Justice Juan Merchan signalled he would not sentence Trump to jail time, probation or a fine, but instead give him an \"unconditional discharge\", and wrote in his order that the president-elect could appear in person or virtually for the hearing.Trump had attempted to use his presidential election victory to have the case against him dismissed.The president-elect has posted on social media dismissing the judge's order as an \"illegitimate political attack\" and calling the case \"nothing but a rigged charade\".Trump was convicted in May of 34 felony counts of falsifying business records related to a $130,000 (£105,000) payment to adult-film star Stormy Daniels. The charges related to attempts to cover up reimbursements to his ex-lawyer, Michael Cohen, who in the final days of the 2016 election campaign paid off the adult-film star to remain silent about an alleged sexual encounter with Trump.The president-elect has denied all wrongdoing and pleaded not guilty, arguing the case was an attempt to harm his 2024 presidential campaign.In the post on his Truth Social platform on Saturday Trump said the judge's sentencing order \"goes against our Constitution and, if allowed to stand, would be the end of the Presidency as we know it\".Trump's spokesperson Steven Cheung earlier called the order part of a \"witch hunt\".\"President Trump must be allowed to continue the presidential transition process and to execute the vital duties of the presidency, unobstructed by the remains of this or any remnants of the witch hunts,\" Cheung said.\"There should be no sentencing, and President Trump will continue fighting against these hoaxes until they are all dead.\"In his latest motion against the case, Trump had argued the case would hang over him during his presidency and impede his ability to govern. Justice Merchan said he had been advised of several measures he could employ that could assuage Trump's concerns about being distracted by a criminal case while serving as president that fell short of the \"extreme remedy\" of overturning the jury's verdict.His options included delaying the sentencing until Trump, 78, leaves the White House in 2029, or guaranteeing a sentence that would not involve prison time.Trump had initially, and unsuccessfully, argued the case against him ran afoul of a Supreme Court ruling on presidential immunity.In July, the country's top court ruled that presidents have broad immunity from criminal prosecution for \"official actions\" they take while in office.However, last month Justice Merchan ruled Trump's hush money conviction was valid.Trump is currently set to be the first convicted felon to serve in the White House. He may attempt to appeal against the conviction after the sentencing.While falsifying business records is punishable by up to four years in prison in the US, there is no minimum sentence and incarceration is not required.Even before his election victory, legal experts thought it was unlikely Trump would face jail time given his age and his legal record.Trump has also been charged in three other state and federal criminal cases: one involving classified documents and two relating to his alleged efforts to overturn his loss in the election of 2020.The president-elect was initially scheduled to be sentenced on 26 November, but Justice Merchan pushed the date back after Trump won the presidential election.Donald TrumpUnited StatesRelatedWhat one picture tells us about Trump's power in Congress14 hrs agoUS & Canada'Visit Hull' invitation to Trump after social post19 hrs agoEnglandHow Trump and Musk's interventions prompt fresh diplomatic challenge20 hrs agoUKMore3 hrs agoBiden awards Wintour, Bono and Soros with Medal of Freedom Campaigners, politicians and athletes are among those receiving the US's highest civilian award. 3 hrs agoUS & Canada11 hrs agoWho were the victims of the New Orleans attack?An American college football player, a young aspiring nurse and a mother of a four-year-old are among the victims.11 hrs agoUS & Canada13 hrs agoBriton among dead in New Orleans vehicle attackThe family of London man Edward Pettifer mourn a \"wonderful son, brother, grandson, nephew and friend\". 13 hrs agoUS & Canada16 hrs agoSuspect in Cybertruck blast suffered from PTSDPolice said the US army member had no animosity toward Trump and the blast appeared to be a \"tragic case of suicide\". 16 hrs agoUS & Canada17 hrs agoJohnson re-elected as House Speaker in razor-tight margin Republican Mike Johnson could only lose two votes from his own party in his bid for speaker re-election, and he nearly did. 17 hrs agoUS & CanadaBritish Broadcasting CorporationHomeNewsSportBusinessInnovationCultureArtsTravelEarthVideoLiveAudioWeatherBBC ShopBBC in other languagesFollow BBC on:Terms of UseAbout the BBCPrivacy PolicyCookiesAccessibility HelpContact the BBCAdvertise with usDo not share or sell my infoContact technical supportCopyright 2025 BBC. All rights reserved. The BBC is not responsible for the content of external sites. Read about our approach to external linking.\n"
          ]
        }
      ]
    },
    {
      "cell_type": "code",
      "source": [
        "# Segmentation\n",
        "sentences = sent_tokenize(document_text)"
      ],
      "metadata": {
        "id": "KluxEQ1Qksfn"
      },
      "execution_count": 60,
      "outputs": []
    },
    {
      "cell_type": "code",
      "source": [
        "print(sentences[:5])"
      ],
      "metadata": {
        "colab": {
          "base_uri": "https://localhost:8080/"
        },
        "id": "T8oBT9qXlL5-",
        "outputId": "2583954a-f9ae-40de-8e7b-598bbb7d0d20"
      },
      "execution_count": 61,
      "outputs": [
        {
          "output_type": "stream",
          "name": "stdout",
          "text": [
            "['Trump to be sentenced in hush money case on 10 JanuarySkip to contentBritish Broadcasting CorporationWatch LiveHomeNewsSportBusinessInnovationCultureArtsTravelEarthVideoLiveHomeNewsIsrael-Gaza WarWar in UkraineUS & CanadaUKUK PoliticsEnglandN.', 'IrelandN.', 'Ireland PoliticsScotlandScotland PoliticsWalesWales PoliticsAfricaAsiaChinaIndiaAustraliaEuropeLatin AmericaMiddle EastIn PicturesBBC InDepthBBC VerifySportBusinessExecutive LoungeTechnology of BusinessFuture of BusinessInnovationTechnologyScience & HealthArtificial IntelligenceAI v the MindCultureFilm & TVMusicArt & DesignStyleBooksEntertainment NewsArtsArts in MotionTravelDestinationsAfricaAntarcticaAsiaAustralia and PacificCaribbean & BermudaCentral AmericaEuropeMiddle EastNorth AmericaSouth AmericaWorld’s TableCulture & ExperiencesAdventuresThe SpeciaListEarthNatural WondersWeather & ScienceClimate SolutionsSustainable BusinessGreen LivingVideoLiveLive NewsLive SportHomeNewsSportBusinessInnovationCultureArtsTravelEarthVideoLiveAudioWeatherNewslettersTrump to be sentenced over hush money case but judge signals no jail timeReutersA judge has ordered that Donald Trump will be sentenced on 10 January in his hush-money case in New York - less than two weeks before he is set to be sworn in as president.New York Justice Juan Merchan signalled he would not sentence Trump to jail time, probation or a fine, but instead give him an \"unconditional discharge\", and wrote in his order that the president-elect could appear in person or virtually for the hearing.Trump had attempted to use his presidential election victory to have the case against him dismissed.The president-elect has posted on social media dismissing the judge\\'s order as an \"illegitimate political attack\" and calling the case \"nothing but a rigged charade\".Trump was convicted in May of 34 felony counts of falsifying business records related to a $130,000 (£105,000) payment to adult-film star Stormy Daniels.', 'The charges related to attempts to cover up reimbursements to his ex-lawyer, Michael Cohen, who in the final days of the 2016 election campaign paid off the adult-film star to remain silent about an alleged sexual encounter with Trump.The president-elect has denied all wrongdoing and pleaded not guilty, arguing the case was an attempt to harm his 2024 presidential campaign.In the post on his Truth Social platform on Saturday Trump said the judge\\'s sentencing order \"goes against our Constitution and, if allowed to stand, would be the end of the Presidency as we know it\".Trump\\'s spokesperson Steven Cheung earlier called the order part of a \"witch hunt\".', '\"President Trump must be allowed to continue the presidential transition process and to execute the vital duties of the presidency, unobstructed by the remains of this or any remnants of the witch hunts,\" Cheung said.']\n"
          ]
        }
      ]
    },
    {
      "cell_type": "code",
      "source": [
        "# Tokenization\n",
        "# words = word_tokenize(document_text)\n",
        "words = []\n",
        "for sentence in sentences:\n",
        "    words.extend(word_tokenize(sentence))"
      ],
      "metadata": {
        "id": "HPS-mbUhlY2G"
      },
      "execution_count": 62,
      "outputs": []
    },
    {
      "cell_type": "code",
      "source": [
        "print(words[:10])"
      ],
      "metadata": {
        "colab": {
          "base_uri": "https://localhost:8080/"
        },
        "id": "wFkavyq0loCv",
        "outputId": "e54fb28d-da1c-417c-ae86-5e59f7c47e14"
      },
      "execution_count": 63,
      "outputs": [
        {
          "output_type": "stream",
          "name": "stdout",
          "text": [
            "['Trump', 'to', 'be', 'sentenced', 'in', 'hush', 'money', 'case', 'on', '10']\n"
          ]
        }
      ]
    },
    {
      "cell_type": "code",
      "source": [
        "# Remove Stopwords\n",
        "stop_words = set(stopwords.words('english'))\n",
        "filtered_words = [word for word in words if word.lower() not in stop_words and word.isalpha()]"
      ],
      "metadata": {
        "id": "X7u5Lm7tmUax"
      },
      "execution_count": 64,
      "outputs": []
    },
    {
      "cell_type": "code",
      "source": [
        "print(filtered_words[:10])"
      ],
      "metadata": {
        "colab": {
          "base_uri": "https://localhost:8080/"
        },
        "id": "5coipRJOma0A",
        "outputId": "5ac4ea82-9c69-4340-f136-9820abbfbba4"
      },
      "execution_count": 65,
      "outputs": [
        {
          "output_type": "stream",
          "name": "stdout",
          "text": [
            "['Trump', 'sentenced', 'hush', 'money', 'case', 'JanuarySkip', 'contentBritish', 'Broadcasting', 'CorporationWatch', 'WarWar']\n"
          ]
        }
      ]
    },
    {
      "cell_type": "code",
      "source": [
        "#Stemming\n",
        "#stemmer = PorterStemmer()\n",
        "#stemmed_words = [stemmer.stem(word) for word in filtered_words]"
      ],
      "metadata": {
        "id": "iF2BeGULmlAO"
      },
      "execution_count": 66,
      "outputs": []
    },
    {
      "cell_type": "code",
      "source": [
        "#print(stemmed_words[:10])"
      ],
      "metadata": {
        "id": "m4U7A9Z6mtxP"
      },
      "execution_count": 67,
      "outputs": []
    },
    {
      "cell_type": "code",
      "source": [
        "# #Lemmatization\n",
        "lemmatizer = WordNetLemmatizer()\n",
        "# lemmatized_words = [lemmatizer.lemmatize(word) for word in filtered_words]\n",
        "# Function to get POS tag for lemmatization\n",
        "def get_wordnet_pos(word):\n",
        "    from nltk.corpus.reader.wordnet import NOUN, VERB, ADJ, ADV\n",
        "    tag = nltk.pos_tag([word])[0][1][0].upper()\n",
        "    return {\n",
        "        'J': ADJ,  # Adjective\n",
        "        'V': VERB,  # Verb\n",
        "        'N': NOUN,  # Noun\n",
        "        'R': ADV,   # Adverb\n",
        "    }.get(tag, NOUN)  # Default to noun\n",
        "\n",
        "lemmatized_words = [lemmatizer.lemmatize(word, get_wordnet_pos(word)) for word in filtered_words]\n"
      ],
      "metadata": {
        "id": "WAQl_oN5m4GL"
      },
      "execution_count": 68,
      "outputs": []
    },
    {
      "cell_type": "code",
      "source": [
        "print(lemmatized_words[:10])"
      ],
      "metadata": {
        "colab": {
          "base_uri": "https://localhost:8080/"
        },
        "id": "qK44zykhm9hl",
        "outputId": "2028ceb2-f81a-4c71-8032-aa36e42c6394"
      },
      "execution_count": 69,
      "outputs": [
        {
          "output_type": "stream",
          "name": "stdout",
          "text": [
            "['Trump', 'sentence', 'hush', 'money', 'case', 'JanuarySkip', 'contentBritish', 'Broadcasting', 'CorporationWatch', 'WarWar']\n"
          ]
        }
      ]
    },
    {
      "cell_type": "code",
      "source": [
        "# Parsing for Syntactic Analysis\n",
        "nlp = spacy.load('en_core_web_sm')\n",
        "\n",
        "def parse_sentences(sentences):\n",
        "    parsed_data = []\n",
        "    for sentence in sentences:\n",
        "        doc = nlp(sentence)\n",
        "        parsed_sentence = [\n",
        "            {\n",
        "                \"text\": token.text,\n",
        "                \"lemma\": token.lemma_,\n",
        "                \"pos\": token.pos_,\n",
        "                \"tag\": token.tag_,\n",
        "                \"dependency\": token.dep_,\n",
        "            }\n",
        "            for token in doc\n",
        "        ]\n",
        "        parsed_data.append(parsed_sentence)\n",
        "    return parsed_data\n",
        "\n",
        "parsed_sentences = parse_sentences(sentences)\n"
      ],
      "metadata": {
        "id": "_2fNCzPCnJQt"
      },
      "execution_count": 70,
      "outputs": []
    },
    {
      "cell_type": "code",
      "source": [
        "# Display Parsing Results for the First Sentence\n",
        "print(\"Parsed Data for the First Sentence:\")\n",
        "for token in parsed_sentences[0]:\n",
        "    print(token)"
      ],
      "metadata": {
        "colab": {
          "base_uri": "https://localhost:8080/"
        },
        "id": "e-efpjajnfP2",
        "outputId": "ed92c2f3-c125-462e-97e9-d36582b726bd"
      },
      "execution_count": 71,
      "outputs": [
        {
          "output_type": "stream",
          "name": "stdout",
          "text": [
            "Parsed Data for the First Sentence:\n",
            "{'text': 'Trump', 'lemma': 'trump', 'pos': 'VERB', 'tag': 'VB', 'dependency': 'ROOT'}\n",
            "{'text': 'to', 'lemma': 'to', 'pos': 'PART', 'tag': 'TO', 'dependency': 'aux'}\n",
            "{'text': 'be', 'lemma': 'be', 'pos': 'AUX', 'tag': 'VB', 'dependency': 'auxpass'}\n",
            "{'text': 'sentenced', 'lemma': 'sentence', 'pos': 'VERB', 'tag': 'VBN', 'dependency': 'xcomp'}\n",
            "{'text': 'in', 'lemma': 'in', 'pos': 'ADP', 'tag': 'IN', 'dependency': 'prep'}\n",
            "{'text': 'hush', 'lemma': 'hush', 'pos': 'ADJ', 'tag': 'JJ', 'dependency': 'amod'}\n",
            "{'text': 'money', 'lemma': 'money', 'pos': 'NOUN', 'tag': 'NN', 'dependency': 'compound'}\n",
            "{'text': 'case', 'lemma': 'case', 'pos': 'NOUN', 'tag': 'NN', 'dependency': 'pobj'}\n",
            "{'text': 'on', 'lemma': 'on', 'pos': 'ADP', 'tag': 'IN', 'dependency': 'prep'}\n",
            "{'text': '10', 'lemma': '10', 'pos': 'NUM', 'tag': 'CD', 'dependency': 'nummod'}\n",
            "{'text': 'JanuarySkip', 'lemma': 'JanuarySkip', 'pos': 'PROPN', 'tag': 'NNP', 'dependency': 'pobj'}\n",
            "{'text': 'to', 'lemma': 'to', 'pos': 'PART', 'tag': 'TO', 'dependency': 'aux'}\n",
            "{'text': 'contentBritish', 'lemma': 'contentbritish', 'pos': 'VERB', 'tag': 'VB', 'dependency': 'advcl'}\n",
            "{'text': 'Broadcasting', 'lemma': 'Broadcasting', 'pos': 'PROPN', 'tag': 'NNP', 'dependency': 'compound'}\n",
            "{'text': 'CorporationWatch', 'lemma': 'CorporationWatch', 'pos': 'PROPN', 'tag': 'NNP', 'dependency': 'dobj'}\n",
            "{'text': 'LiveHomeNewsSportBusinessInnovationCultureArtsTravelEarthVideoLiveHomeNewsIsrael', 'lemma': 'LiveHomeNewsSportBusinessInnovationCultureArtsTravelEarthVideoLiveHomeNewsIsrael', 'pos': 'PROPN', 'tag': 'NNP', 'dependency': 'compound'}\n",
            "{'text': '-', 'lemma': '-', 'pos': 'PUNCT', 'tag': 'HYPH', 'dependency': 'punct'}\n",
            "{'text': 'Gaza', 'lemma': 'Gaza', 'pos': 'PROPN', 'tag': 'NNP', 'dependency': 'compound'}\n",
            "{'text': 'WarWar', 'lemma': 'WarWar', 'pos': 'PROPN', 'tag': 'NNP', 'dependency': 'appos'}\n",
            "{'text': 'in', 'lemma': 'in', 'pos': 'ADP', 'tag': 'IN', 'dependency': 'prep'}\n",
            "{'text': 'UkraineUS', 'lemma': 'UkraineUS', 'pos': 'PROPN', 'tag': 'NNP', 'dependency': 'pobj'}\n",
            "{'text': '&', 'lemma': '&', 'pos': 'CCONJ', 'tag': 'CC', 'dependency': 'cc'}\n",
            "{'text': 'CanadaUKUK', 'lemma': 'CanadaUKUK', 'pos': 'PROPN', 'tag': 'NNP', 'dependency': 'conj'}\n",
            "{'text': 'PoliticsEnglandN.', 'lemma': 'politicsenglandn.', 'pos': 'NOUN', 'tag': 'NN', 'dependency': 'punct'}\n"
          ]
        }
      ]
    },
    {
      "cell_type": "code",
      "source": [
        "#Count Word Frequencies (Using Lemmatized Words)\n",
        "word_freq = Counter(lemmatized_words)"
      ],
      "metadata": {
        "id": "dG8D6yjRnm3r"
      },
      "execution_count": 72,
      "outputs": []
    },
    {
      "cell_type": "code",
      "source": [
        "# Display Top Keywords\n",
        "top_keywords = word_freq.most_common(10)\n",
        "print(\"\\nTop Keywords and Frequencies:\")\n",
        "for keyword, freq in top_keywords:\n",
        "    print(f\"{keyword}: {freq}\")"
      ],
      "metadata": {
        "colab": {
          "base_uri": "https://localhost:8080/"
        },
        "id": "-Ssjt3YBn1o3",
        "outputId": "a0b0ee34-136d-4eb6-a676-d08a9a918f3f"
      },
      "execution_count": 73,
      "outputs": [
        {
          "output_type": "stream",
          "name": "stdout",
          "text": [
            "\n",
            "Top Keywords and Frequencies:\n",
            "Trump: 16\n",
            "hr: 13\n",
            "case: 12\n",
            "sentence: 10\n",
            "agoUS: 6\n",
            "order: 5\n",
            "would: 5\n",
            "presidential: 5\n",
            "judge: 4\n",
            "Justice: 4\n"
          ]
        }
      ]
    }
  ]
}